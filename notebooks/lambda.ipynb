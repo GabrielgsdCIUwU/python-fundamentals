{
 "cells": [
  {
   "cell_type": "markdown",
   "metadata": {},
   "source": [
    "# Funciones Lambda\n",
    "- Lambda es una expresión no un estado.\n",
    "- Lambda es un simple expresión no un estado de bloque."
   ]
  },
  {
   "cell_type": "code",
   "execution_count": 1,
   "metadata": {},
   "outputs": [
    {
     "data": {
      "text/plain": [
       "9"
      ]
     },
     "execution_count": 1,
     "metadata": {},
     "output_type": "execute_result"
    }
   ],
   "source": [
    "# Ejemplo sin lambda:\n",
    "\n",
    "def suma(x, y, z): return x + y + z\n",
    "suma(2, 3, 4)"
   ]
  },
  {
   "cell_type": "code",
   "execution_count": 2,
   "metadata": {},
   "outputs": [
    {
     "data": {
      "text/plain": [
       "9"
      ]
     },
     "execution_count": 2,
     "metadata": {},
     "output_type": "execute_result"
    }
   ],
   "source": [
    "# Ejemplo con lambda:\n",
    "\n",
    "suma = lambda x, y, z: x + y + z\n",
    "suma(2, 3, 4)"
   ]
  },
  {
   "cell_type": "code",
   "execution_count": 4,
   "metadata": {},
   "outputs": [
    {
     "data": {
      "text/plain": [
       "'weefiefoe'"
      ]
     },
     "execution_count": 4,
     "metadata": {},
     "output_type": "execute_result"
    }
   ],
   "source": [
    "x = (lambda a=\"fee\", b=\"fie\", c=\"foe\": a + b + c)\n",
    "x(\"wee\")"
   ]
  },
  {
   "cell_type": "code",
   "execution_count": 5,
   "metadata": {},
   "outputs": [
    {
     "name": "stdout",
     "output_type": "stream",
     "text": [
      "Sir robin\n",
      "<function knights.<locals>.<lambda> at 0x0000021875D98360>\n"
     ]
    }
   ],
   "source": [
    "def knights():\n",
    "    title = 'Sir'\n",
    "    action = (lambda x: title + ' ' + x)\n",
    "    return action\n",
    "\n",
    "act = knights()\n",
    "msg = act('robin')\n",
    "print(msg)\n",
    "print(act)"
   ]
  },
  {
   "cell_type": "markdown",
   "metadata": {},
   "source": [
    "Por qué usar lambda?\n",
    "- Simplificación"
   ]
  },
  {
   "cell_type": "code",
   "execution_count": 8,
   "metadata": {},
   "outputs": [
    {
     "name": "stdout",
     "output_type": "stream",
     "text": [
      "4\n",
      "8\n",
      "16\n",
      "---\n",
      "9\n"
     ]
    }
   ],
   "source": [
    "L = [lambda x: x ** 2,\n",
    "     lambda x: x ** 3,\n",
    "     lambda x: x ** 4]\n",
    "\n",
    "for f in L:\n",
    "    print(f(2))\n",
    "\n",
    "print(\"---\")\n",
    "print(L[0](3))"
   ]
  },
  {
   "cell_type": "markdown",
   "metadata": {},
   "source": [
    "Equivalencia sin lambda:"
   ]
  },
  {
   "cell_type": "code",
   "execution_count": 9,
   "metadata": {},
   "outputs": [
    {
     "name": "stdout",
     "output_type": "stream",
     "text": [
      "4\n",
      "8\n",
      "16\n",
      "---\n",
      "9\n"
     ]
    }
   ],
   "source": [
    "def f1(x): return x ** 2\n",
    "def f2(x): return x ** 3\n",
    "def f3(x): return x ** 4\n",
    "\n",
    "L = [f1, f2, f3]\n",
    "\n",
    "for f in L:\n",
    "    print(f(2))\n",
    "\n",
    "print(\"---\")\n",
    "print(L[0](3))"
   ]
  },
  {
   "cell_type": "markdown",
   "metadata": {},
   "source": [
    "Lambda se permite usar otros tipos de estructura de datos"
   ]
  },
  {
   "cell_type": "code",
   "execution_count": 10,
   "metadata": {},
   "outputs": [
    {
     "data": {
      "text/plain": [
       "8"
      ]
     },
     "execution_count": 10,
     "metadata": {},
     "output_type": "execute_result"
    }
   ],
   "source": [
    "key = 'got'\n",
    "{'already': (lambda: 2 + 2),\n",
    " 'got': (lambda: 2 * 4),\n",
    " 'one': (lambda: 2 ** 6)}[key]()"
   ]
  },
  {
   "cell_type": "markdown",
   "metadata": {},
   "source": [
    "equivalencia sin lambda:"
   ]
  },
  {
   "cell_type": "code",
   "execution_count": 11,
   "metadata": {},
   "outputs": [
    {
     "data": {
      "text/plain": [
       "64"
      ]
     },
     "execution_count": 11,
     "metadata": {},
     "output_type": "execute_result"
    }
   ],
   "source": [
    "def f1(): return 2 + 2\n",
    "def f2(): return 2 * 4\n",
    "def f3(): return 2 ** 6\n",
    "\n",
    "key = 'one'\n",
    "{'already': f1, 'got': f2, 'one': f3}[key]()"
   ]
  },
  {
   "cell_type": "markdown",
   "metadata": {},
   "source": [
    "## Como no ofuscarte con tu código"
   ]
  }
 ],
 "metadata": {
  "kernelspec": {
   "display_name": "Python 3",
   "language": "python",
   "name": "python3"
  },
  "language_info": {
   "codemirror_mode": {
    "name": "ipython",
    "version": 3
   },
   "file_extension": ".py",
   "mimetype": "text/x-python",
   "name": "python",
   "nbconvert_exporter": "python",
   "pygments_lexer": "ipython3",
   "version": "3.12.6"
  }
 },
 "nbformat": 4,
 "nbformat_minor": 2
}
